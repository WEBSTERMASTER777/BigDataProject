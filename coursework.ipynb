{
 "cells": [
  {
   "cell_type": "code",
   "execution_count": 32,
   "id": "ethical-essay",
   "metadata": {},
   "outputs": [],
   "source": [
    "import os\n",
    "import socket\n",
    "from pyspark import SparkConf, SparkContext, SQLContext\n",
    "from pyspark.sql import SparkSession\n",
    "import pyspark.sql.functions as F\n",
    "from pyspark.sql.functions import udf, length, when, col, broadcast\n",
    "from pyspark.sql.window import Window\n",
    "from pyspark.sql.types import BooleanType, IntegerType, LongType, StringType, ArrayType, FloatType, StructType, StructField\n",
    "from pyspark.sql.functions import pandas_udf\n",
    "from pyspark.sql.functions import PandasUDFType\n",
    "from pyspark import StorageLevel\n",
    "from jinja2 import Environment, FileSystemLoader\n",
    "import matplotlib.pyplot as plt\n",
    "import datetime"
   ]
  },
  {
   "cell_type": "code",
   "execution_count": 3,
   "id": "identified-johnson",
   "metadata": {},
   "outputs": [],
   "source": [
    "# setting constants\n",
    "APP_NAME = \"COURSE_WORK\"\n",
    "NORMALIZED_APP_NAME = APP_NAME.replace('/', '_').replace(':', '_')\n",
    "\n",
    "APPS_TMP_DIR = os.path.join(os.getcwd(), \"tmp\")\n",
    "APPS_CONF_DIR = os.path.join(os.getcwd(), \"conf\")\n",
    "APPS_LOGS_DIR = os.path.join(os.getcwd(), \"logs\")\n",
    "LOG4J_PROP_FILE = os.path.join(APPS_CONF_DIR, \"pyspark-log4j-{}.properties\".format(NORMALIZED_APP_NAME))\n",
    "LOG_FILE = os.path.join(APPS_LOGS_DIR, 'pyspark-{}.log'.format(NORMALIZED_APP_NAME))\n",
    "EXTRA_JAVA_OPTIONS = \"-Dlog4j.configuration=file://{} -Dspark.hadoop.dfs.replication=1 -Dhttps.protocols=TLSv1.0,TLSv1.1,TLSv1.2,TLSv1.3\"\\\n",
    "    .format(LOG4J_PROP_FILE)\n",
    "\n",
    "LOCAL_IP = socket.gethostbyname(socket.gethostname())"
   ]
  },
  {
   "cell_type": "code",
   "execution_count": 4,
   "id": "innovative-congo",
   "metadata": {},
   "outputs": [],
   "source": [
    "# preparing configuration files from templates\n",
    "for directory in [APPS_CONF_DIR, APPS_LOGS_DIR, APPS_TMP_DIR]:\n",
    "    if not os.path.exists(directory):\n",
    "        os.makedirs(directory)\n",
    "\n",
    "env = Environment(loader=FileSystemLoader('/opt'))\n",
    "template = env.get_template(\"pyspark_log4j.properties.template\")\n",
    "template\\\n",
    "    .stream(logfile=LOG_FILE)\\\n",
    "    .dump(LOG4J_PROP_FILE)"
   ]
  },
  {
   "cell_type": "code",
   "execution_count": 5,
   "id": "operating-strengthening",
   "metadata": {},
   "outputs": [],
   "source": [
    "# run spark\n",
    "spark = SparkSession\\\n",
    "    .builder\\\n",
    "    .appName(APP_NAME)\\\n",
    "    .master(\"k8s://https://10.32.7.103:6443\")\\\n",
    "    .config(\"spark.driver.host\", LOCAL_IP)\\\n",
    "    .config(\"spark.ui.port\", \"4040\")\\\n",
    "    .config(\"spark.kubernetes.memoryOverheadFactor\", \"0.6\")\\\n",
    "    .config(\"spark.driver.memory\", \"4g\")\\\n",
    "    .config(\"spark.driver.bindAddress\", \"0.0.0.0\")\\\n",
    "    .config(\"spark.executor.instances\", \"5\")\\\n",
    "    .config(\"spark.executor.cores\", '4')\\\n",
    "    .config(\"spark.executor.memory\", \"5g\")\\\n",
    "    .config(\"spark.memory.fraction\", \"0.6\")\\\n",
    "    .config(\"spark.memory.storageFraction\", \"0.5\")\\\n",
    "    .config(\"spark.sql.autoBroadcastJoinThreshold\", \"-1\")\\\n",
    "    .config(\"spark.driver.extraJavaOptions\", EXTRA_JAVA_OPTIONS)\\\n",
    "    .config(\"spark.kubernetes.namespace\", \"refremov-225111\")\\\n",
    "    .config(\"spark.kubernetes.driver.label.appname\", APP_NAME)\\\n",
    "    .config(\"spark.kubernetes.executor.label.appname\", APP_NAME)\\\n",
    "    .config(\"spark.kubernetes.container.image.pullPolicy\", \"Always\")\\\n",
    "    .config(\"spark.kubernetes.container.image\", \"node03.st:5000/spark-executor:refremov-225111\")\\\n",
    "    .config(\"spark.kubernetes.executor.deleteOnTermination\", \"true\")\\\n",
    "    .config(\"spark.local.dir\", \"/tmp/spark\")\\\n",
    "    .getOrCreate()"
   ]
  },
  {
   "cell_type": "code",
   "execution_count": 6,
   "id": "pregnant-musical",
   "metadata": {},
   "outputs": [
    {
     "name": "stdout",
     "output_type": "stream",
     "text": [
      "Web UI: http://10.128.75.244:4040\n",
      "\n",
      "log4j file: /home/jovyan/work/conf/pyspark-log4j-COURSE_WORK.properties\n",
      "\n",
      "driver log file: /home/jovyan/work/logs/pyspark-COURSE_WORK.log\n"
     ]
    }
   ],
   "source": [
    "print(\"Web UI: {}\".format(spark.sparkContext.uiWebUrl))\n",
    "print(\"\\nlog4j file: {}\".format(LOG4J_PROP_FILE))\n",
    "print(\"\\ndriver log file: {}\".format(LOG_FILE))"
   ]
  },
  {
   "cell_type": "markdown",
   "id": "hungry-afternoon",
   "metadata": {},
   "source": [
    "# Read and clean dataset"
   ]
  },
  {
   "cell_type": "code",
   "execution_count": 18,
   "id": "varied-stuart",
   "metadata": {},
   "outputs": [],
   "source": [
    "JSON_SCHEMA = StructType([\n",
    "    StructField('_id', StructType([\n",
    "        StructField('$oid', StringType())\n",
    "    ])),\n",
    "    StructField('x', IntegerType()),\n",
    "    StructField('y', IntegerType()),\n",
    "    StructField('z', IntegerType()),\n",
    "    StructField('time_detected', FloatType()),\n",
    "    StructField('object_id', IntegerType()),\n",
    "    StructField('category', StringType()),\n",
    "    StructField('clf_category', StringType()),\n",
    "    StructField('conf', FloatType()),\n",
    "    StructField('picked', BooleanType()),\n",
    "    StructField('proceed', StructType([\n",
    "        StructField('proceed_1', StringType()),\n",
    "        StructField('proceed_2', StringType()),\n",
    "    ])),\n",
    "    StructField('repeated_detection', ArrayType(StructType([\n",
    "        StructField('time_detected', FloatType()),\n",
    "        StructField('x', IntegerType()),\n",
    "        StructField('y', IntegerType()),\n",
    "        StructField('z', IntegerType()),\n",
    "        StructField('category', StringType()),\n",
    "        StructField('clf_category', StringType()),\n",
    "        StructField('conf', FloatType())\n",
    "    ])))\n",
    "])\n",
    "df = spark.read.json('/home/refremov-225111/detect_12.json', multiLine=True, schema=JSON_SCHEMA)"
   ]
  },
  {
   "cell_type": "code",
   "execution_count": 8,
   "id": "bronze-sacrifice",
   "metadata": {},
   "outputs": [
    {
     "name": "stdout",
     "output_type": "stream",
     "text": [
      "root\n",
      " |-- _id: struct (nullable = true)\n",
      " |    |-- $oid: string (nullable = true)\n",
      " |-- x: integer (nullable = true)\n",
      " |-- y: integer (nullable = true)\n",
      " |-- z: integer (nullable = true)\n",
      " |-- time_detected: float (nullable = true)\n",
      " |-- object_id: integer (nullable = true)\n",
      " |-- category: string (nullable = true)\n",
      " |-- clf_category: string (nullable = true)\n",
      " |-- conf: float (nullable = true)\n",
      " |-- picked: boolean (nullable = true)\n",
      " |-- proceed: struct (nullable = true)\n",
      " |    |-- proceed_1: string (nullable = true)\n",
      " |    |-- proceed_2: string (nullable = true)\n",
      " |-- repeated_detection: array (nullable = true)\n",
      " |    |-- element: struct (containsNull = true)\n",
      " |    |    |-- time_detected: float (nullable = true)\n",
      " |    |    |-- x: integer (nullable = true)\n",
      " |    |    |-- y: integer (nullable = true)\n",
      " |    |    |-- z: integer (nullable = true)\n",
      " |    |    |-- category: string (nullable = true)\n",
      " |    |    |-- clf_category: string (nullable = true)\n",
      " |    |    |-- conf: float (nullable = true)\n",
      "\n"
     ]
    }
   ],
   "source": [
    "df.printSchema()"
   ]
  },
  {
   "cell_type": "code",
   "execution_count": 9,
   "id": "executed-investigator",
   "metadata": {},
   "outputs": [
    {
     "data": {
      "text/plain": [
       "640258"
      ]
     },
     "execution_count": 9,
     "metadata": {},
     "output_type": "execute_result"
    }
   ],
   "source": [
    "df.count()"
   ]
  },
  {
   "cell_type": "code",
   "execution_count": 19,
   "id": "unauthorized-budapest",
   "metadata": {},
   "outputs": [],
   "source": [
    "df = df.withColumn(\"py_date\", F.from_unixtime(\"time_detected\")).drop(\"time_detected\")"
   ]
  },
  {
   "cell_type": "code",
   "execution_count": 20,
   "id": "functional-authority",
   "metadata": {},
   "outputs": [
    {
     "name": "stdout",
     "output_type": "stream",
     "text": [
      "+------------+\n",
      "|clf_category|\n",
      "+------------+\n",
      "|        none|\n",
      "+------------+\n",
      "\n"
     ]
    }
   ],
   "source": [
    "df.select(\"clf_category\").distinct().show()"
   ]
  },
  {
   "cell_type": "code",
   "execution_count": 21,
   "id": "unknown-flavor",
   "metadata": {},
   "outputs": [],
   "source": [
    "df = df.drop(\"clf_category\")"
   ]
  },
  {
   "cell_type": "code",
   "execution_count": 22,
   "id": "numerical-constitutional",
   "metadata": {},
   "outputs": [],
   "source": [
    "df = df.drop(\"object_id\")"
   ]
  },
  {
   "cell_type": "markdown",
   "id": "impressive-messaging",
   "metadata": {},
   "source": [
    "# Brief analyze"
   ]
  },
  {
   "cell_type": "markdown",
   "id": "european-cowboy",
   "metadata": {},
   "source": [
    "Min and max confedence for picked and not picked objects."
   ]
  },
  {
   "cell_type": "code",
   "execution_count": 23,
   "id": "sensitive-walker",
   "metadata": {},
   "outputs": [
    {
     "name": "stdout",
     "output_type": "stream",
     "text": [
      "+---------+---------+\n",
      "|min(conf)|max(conf)|\n",
      "+---------+---------+\n",
      "|0.5004883|0.9550781|\n",
      "+---------+---------+\n",
      "\n"
     ]
    }
   ],
   "source": [
    "df.where(\"picked = true\").agg(F.min(\"conf\"), F.max(\"conf\")).show()"
   ]
  },
  {
   "cell_type": "code",
   "execution_count": 24,
   "id": "altered-monitor",
   "metadata": {},
   "outputs": [
    {
     "name": "stdout",
     "output_type": "stream",
     "text": [
      "+---------+---------+\n",
      "|min(conf)|max(conf)|\n",
      "+---------+---------+\n",
      "|0.5004883|0.9716797|\n",
      "+---------+---------+\n",
      "\n"
     ]
    }
   ],
   "source": [
    "df.where(\"picked = false\").agg(F.min(\"conf\"), F.max(\"conf\")).show()"
   ]
  },
  {
   "cell_type": "markdown",
   "id": "angry-papua",
   "metadata": {},
   "source": [
    "Top categories of picked and not picked objects."
   ]
  },
  {
   "cell_type": "code",
   "execution_count": 25,
   "id": "asian-mediterranean",
   "metadata": {},
   "outputs": [
    {
     "name": "stdout",
     "output_type": "stream",
     "text": [
      "+--------------------+-----+\n",
      "|            category|count|\n",
      "+--------------------+-----+\n",
      "|         BLUE BOTTLE|20899|\n",
      "|     DETERGENT WHITE| 1928|\n",
      "|         MILK BOTTLE| 2001|\n",
      "|         DARK BOTTLE| 3750|\n",
      "|       DETERGENT BOX|  162|\n",
      "|           5L BOTTLE| 2036|\n",
      "|     DETERGENT COLOR| 1430|\n",
      "|       TRANSP BOTTLE|28093|\n",
      "|        GREEN BOTTLE| 9635|\n",
      "|DETERGENT TRANSPA...| 1581|\n",
      "+--------------------+-----+\n",
      "\n"
     ]
    }
   ],
   "source": [
    "df.where(\"picked = true\").groupBy(\"category\").count().show()"
   ]
  },
  {
   "cell_type": "code",
   "execution_count": 26,
   "id": "unique-bermuda",
   "metadata": {},
   "outputs": [
    {
     "name": "stdout",
     "output_type": "stream",
     "text": [
      "+--------------------+------+\n",
      "|            category| count|\n",
      "+--------------------+------+\n",
      "|         BLUE BOTTLE| 87877|\n",
      "|        GLASS TRANSP| 28796|\n",
      "|            CANISTER|   149|\n",
      "|         GLASS GREEN| 10398|\n",
      "|     DETERGENT WHITE|  3513|\n",
      "|         MILK BOTTLE|  4599|\n",
      "|              YOGURT| 16825|\n",
      "|         DARK BOTTLE|  9156|\n",
      "|       DETERGENT BOX|   279|\n",
      "|           5L BOTTLE| 18635|\n",
      "|                CANS|166175|\n",
      "|     DETERGENT COLOR|  2409|\n",
      "|          GLASS DARK| 12892|\n",
      "|     JUICE CARDBOARD| 34560|\n",
      "|       TRANSP BOTTLE| 73037|\n",
      "|      MILK CARDBOARD| 60024|\n",
      "|        GREEN BOTTLE| 28566|\n",
      "|DETERGENT TRANSPA...|  3314|\n",
      "|          OIL BOTTLE|  6588|\n",
      "|   MULTICOLOR BOTTLE|   951|\n",
      "+--------------------+------+\n",
      "\n"
     ]
    }
   ],
   "source": [
    "df.where(\"picked = false\").groupBy(\"category\").count().show()"
   ]
  },
  {
   "cell_type": "code",
   "execution_count": 27,
   "id": "likely-zimbabwe",
   "metadata": {},
   "outputs": [
    {
     "name": "stdout",
     "output_type": "stream",
     "text": [
      "+------+------+------+------+------+------+-------------------+-------------------+\n",
      "|min(x)|max(x)|min(y)|max(y)|min(z)|max(z)|       min(py_date)|       max(py_date)|\n",
      "+------+------+------+------+------+------+-------------------+-------------------+\n",
      "|   151|  1150|   108|   612|  -150|  -110|2021-05-15 16:29:52|2021-06-08 11:05:36|\n",
      "+------+------+------+------+------+------+-------------------+-------------------+\n",
      "\n"
     ]
    }
   ],
   "source": [
    "df.agg(F.min(\"x\"), F.max(\"x\"), F.min(\"y\"), F.max(\"y\"), F.min(\"z\"), F.max(\"z\"), F.min(\"py_date\"), F.max(\"py_date\")).show()"
   ]
  },
  {
   "cell_type": "code",
   "execution_count": 28,
   "id": "respective-wales",
   "metadata": {},
   "outputs": [
    {
     "name": "stdout",
     "output_type": "stream",
     "text": [
      "+-----------------+----------+\n",
      "|         category|  min_conf|\n",
      "+-----------------+----------+\n",
      "|MULTICOLOR BOTTLE|0.50146484|\n",
      "|      BLUE BOTTLE| 0.5004883|\n",
      "|     GLASS TRANSP| 0.5004883|\n",
      "|         CANISTER| 0.5004883|\n",
      "|      GLASS GREEN| 0.5004883|\n",
      "|  DETERGENT WHITE| 0.5004883|\n",
      "|      MILK BOTTLE| 0.5004883|\n",
      "|           YOGURT| 0.5004883|\n",
      "|      DARK BOTTLE| 0.5004883|\n",
      "|    DETERGENT BOX| 0.5004883|\n",
      "+-----------------+----------+\n",
      "\n"
     ]
    }
   ],
   "source": [
    "df.groupby(\"category\").agg(F.min(\"conf\").alias(\"min_conf\"))\\\n",
    "    .orderBy(F.desc(\"min_conf\"))\\\n",
    "    .limit(10)\\\n",
    "    .show()"
   ]
  },
  {
   "cell_type": "code",
   "execution_count": 29,
   "id": "natural-flexibility",
   "metadata": {},
   "outputs": [
    {
     "name": "stdout",
     "output_type": "stream",
     "text": [
      "+--------------------+----------+\n",
      "|            category|  max_conf|\n",
      "+--------------------+----------+\n",
      "|              YOGURT| 0.9716797|\n",
      "|     DETERGENT WHITE|0.96533203|\n",
      "|          OIL BOTTLE| 0.9604492|\n",
      "|DETERGENT TRANSPA...| 0.9589844|\n",
      "|     JUICE CARDBOARD| 0.9560547|\n",
      "|       DETERGENT BOX| 0.9550781|\n",
      "|        GREEN BOTTLE|0.95458984|\n",
      "|     DETERGENT COLOR| 0.9536133|\n",
      "|         BLUE BOTTLE|0.95214844|\n",
      "|      MILK CARDBOARD|0.95166016|\n",
      "+--------------------+----------+\n",
      "\n"
     ]
    }
   ],
   "source": [
    "df.groupby(\"category\").agg(F.max(\"conf\").alias(\"max_conf\"))\\\n",
    "    .orderBy(F.desc(\"max_conf\"))\\\n",
    "    .limit(10)\\\n",
    "    .show()"
   ]
  },
  {
   "cell_type": "code",
   "execution_count": 30,
   "id": "sorted-particular",
   "metadata": {},
   "outputs": [
    {
     "name": "stdout",
     "output_type": "stream",
     "text": [
      "+---------------+------------------+\n",
      "|       category|          avg_conf|\n",
      "+---------------+------------------+\n",
      "|      5L BOTTLE|0.8046469890259905|\n",
      "|   GREEN BOTTLE|0.6951201707947763|\n",
      "|    BLUE BOTTLE|0.6911025106569348|\n",
      "|  TRANSP BOTTLE|0.6875883473777563|\n",
      "|JUICE CARDBOARD|0.6788801970305266|\n",
      "|DETERGENT WHITE|0.6751953304482172|\n",
      "|    MILK BOTTLE|0.6714120205965909|\n",
      "|  DETERGENT BOX|0.6707943594104309|\n",
      "|     OIL BOTTLE|0.6641825691598361|\n",
      "|   GLASS TRANSP|0.6634722928368958|\n",
      "+---------------+------------------+\n",
      "\n"
     ]
    }
   ],
   "source": [
    "df.groupby(\"category\").agg(F.avg(\"conf\").alias(\"avg_conf\"))\\\n",
    "    .orderBy(F.desc(\"avg_conf\"))\\\n",
    "    .limit(10)\\\n",
    "    .show()"
   ]
  },
  {
   "cell_type": "markdown",
   "id": "checked-cooler",
   "metadata": {},
   "source": [
    "# Count of picked objects by day"
   ]
  },
  {
   "cell_type": "code",
   "execution_count": 34,
   "id": "impossible-network",
   "metadata": {},
   "outputs": [
    {
     "data": {
      "text/html": [
       "<div>\n",
       "<style scoped>\n",
       "    .dataframe tbody tr th:only-of-type {\n",
       "        vertical-align: middle;\n",
       "    }\n",
       "\n",
       "    .dataframe tbody tr th {\n",
       "        vertical-align: top;\n",
       "    }\n",
       "\n",
       "    .dataframe thead th {\n",
       "        text-align: right;\n",
       "    }\n",
       "</style>\n",
       "<table border=\"1\" class=\"dataframe\">\n",
       "  <thead>\n",
       "    <tr style=\"text-align: right;\">\n",
       "      <th></th>\n",
       "      <th>day</th>\n",
       "      <th>count</th>\n",
       "    </tr>\n",
       "  </thead>\n",
       "  <tbody>\n",
       "    <tr>\n",
       "      <th>0</th>\n",
       "      <td>2021/05/15</td>\n",
       "      <td>19928</td>\n",
       "    </tr>\n",
       "    <tr>\n",
       "      <th>1</th>\n",
       "      <td>2021/05/16</td>\n",
       "      <td>51463</td>\n",
       "    </tr>\n",
       "    <tr>\n",
       "      <th>2</th>\n",
       "      <td>2021/05/17</td>\n",
       "      <td>29477</td>\n",
       "    </tr>\n",
       "    <tr>\n",
       "      <th>3</th>\n",
       "      <td>2021/05/18</td>\n",
       "      <td>14308</td>\n",
       "    </tr>\n",
       "    <tr>\n",
       "      <th>4</th>\n",
       "      <td>2021/05/19</td>\n",
       "      <td>25178</td>\n",
       "    </tr>\n",
       "  </tbody>\n",
       "</table>\n",
       "</div>"
      ],
      "text/plain": [
       "          day  count\n",
       "0  2021/05/15  19928\n",
       "1  2021/05/16  51463\n",
       "2  2021/05/17  29477\n",
       "3  2021/05/18  14308\n",
       "4  2021/05/19  25178"
      ]
     },
     "execution_count": 34,
     "metadata": {},
     "output_type": "execute_result"
    }
   ],
   "source": [
    "day_count = df.withColumn(\"day\", F.date_format(\"py_date\", \"yyyy/MM/dd\"))\\\n",
    "    .groupby(\"day\").agg(F.count(\"*\").alias(\"count\"))\\\n",
    "    .orderBy(\"day\").toPandas()\n",
    "day_count.head()"
   ]
  },
  {
   "cell_type": "code",
   "execution_count": 35,
   "id": "practical-blair",
   "metadata": {},
   "outputs": [
    {
     "data": {
      "image/png": "[encoded data removed]",
      "text/plain": [
       "<Figure size 432x288 with 1 Axes>"
      ]
     },
     "metadata": {
      "needs_background": "light"
     },
     "output_type": "display_data"
    }
   ],
   "source": [
    "plt.plot(day_count['day'], day_count['count'], '.--');\n",
    "plt.xticks(rotation=90);\n",
    "plt.title('Detected objects by days');\n",
    "plt.xlabel('Day');\n",
    "plt.ylabel('Objects count');"
   ]
  },
  {
   "cell_type": "code",
   "execution_count": 36,
   "id": "passing-feeding",
   "metadata": {},
   "outputs": [
    {
     "data": {
      "text/html": [
       "<div>\n",
       "<style scoped>\n",
       "    .dataframe tbody tr th:only-of-type {\n",
       "        vertical-align: middle;\n",
       "    }\n",
       "\n",
       "    .dataframe tbody tr th {\n",
       "        vertical-align: top;\n",
       "    }\n",
       "\n",
       "    .dataframe thead th {\n",
       "        text-align: right;\n",
       "    }\n",
       "</style>\n",
       "<table border=\"1\" class=\"dataframe\">\n",
       "  <thead>\n",
       "    <tr style=\"text-align: right;\">\n",
       "      <th></th>\n",
       "      <th>day</th>\n",
       "      <th>picked_count</th>\n",
       "    </tr>\n",
       "  </thead>\n",
       "  <tbody>\n",
       "    <tr>\n",
       "      <th>0</th>\n",
       "      <td>2021/05/15</td>\n",
       "      <td>2972</td>\n",
       "    </tr>\n",
       "    <tr>\n",
       "      <th>1</th>\n",
       "      <td>2021/05/16</td>\n",
       "      <td>6133</td>\n",
       "    </tr>\n",
       "    <tr>\n",
       "      <th>2</th>\n",
       "      <td>2021/05/17</td>\n",
       "      <td>4344</td>\n",
       "    </tr>\n",
       "    <tr>\n",
       "      <th>3</th>\n",
       "      <td>2021/05/18</td>\n",
       "      <td>2734</td>\n",
       "    </tr>\n",
       "    <tr>\n",
       "      <th>4</th>\n",
       "      <td>2021/05/19</td>\n",
       "      <td>3032</td>\n",
       "    </tr>\n",
       "  </tbody>\n",
       "</table>\n",
       "</div>"
      ],
      "text/plain": [
       "          day  picked_count\n",
       "0  2021/05/15          2972\n",
       "1  2021/05/16          6133\n",
       "2  2021/05/17          4344\n",
       "3  2021/05/18          2734\n",
       "4  2021/05/19          3032"
      ]
     },
     "execution_count": 36,
     "metadata": {},
     "output_type": "execute_result"
    }
   ],
   "source": [
    "df_with_days = df.withColumn(\"day\", F.date_format(\"py_date\", \"yyyy/MM/dd\"))\n",
    "days_picked_count = df_with_days.where(\"picked = true\")\\\n",
    "    .groupby(\"day\").agg(F.count(\"*\").alias(\"picked_count\"))\\\n",
    "    .orderBy(\"day\").toPandas()\n",
    "days_picked_count.head()"
   ]
  },
  {
   "cell_type": "code",
   "execution_count": 37,
   "id": "strange-patrick",
   "metadata": {},
   "outputs": [
    {
     "data": {
      "text/html": [
       "<div>\n",
       "<style scoped>\n",
       "    .dataframe tbody tr th:only-of-type {\n",
       "        vertical-align: middle;\n",
       "    }\n",
       "\n",
       "    .dataframe tbody tr th {\n",
       "        vertical-align: top;\n",
       "    }\n",
       "\n",
       "    .dataframe thead th {\n",
       "        text-align: right;\n",
       "    }\n",
       "</style>\n",
       "<table border=\"1\" class=\"dataframe\">\n",
       "  <thead>\n",
       "    <tr style=\"text-align: right;\">\n",
       "      <th></th>\n",
       "      <th>day</th>\n",
       "      <th>picked_count</th>\n",
       "      <th>count</th>\n",
       "    </tr>\n",
       "  </thead>\n",
       "  <tbody>\n",
       "    <tr>\n",
       "      <th>0</th>\n",
       "      <td>2021/05/15</td>\n",
       "      <td>2972</td>\n",
       "      <td>19928</td>\n",
       "    </tr>\n",
       "    <tr>\n",
       "      <th>1</th>\n",
       "      <td>2021/05/16</td>\n",
       "      <td>6133</td>\n",
       "      <td>51463</td>\n",
       "    </tr>\n",
       "    <tr>\n",
       "      <th>2</th>\n",
       "      <td>2021/05/17</td>\n",
       "      <td>4344</td>\n",
       "      <td>29477</td>\n",
       "    </tr>\n",
       "    <tr>\n",
       "      <th>3</th>\n",
       "      <td>2021/05/18</td>\n",
       "      <td>2734</td>\n",
       "      <td>14308</td>\n",
       "    </tr>\n",
       "    <tr>\n",
       "      <th>4</th>\n",
       "      <td>2021/05/19</td>\n",
       "      <td>3032</td>\n",
       "      <td>25178</td>\n",
       "    </tr>\n",
       "  </tbody>\n",
       "</table>\n",
       "</div>"
      ],
      "text/plain": [
       "          day  picked_count  count\n",
       "0  2021/05/15          2972  19928\n",
       "1  2021/05/16          6133  51463\n",
       "2  2021/05/17          4344  29477\n",
       "3  2021/05/18          2734  14308\n",
       "4  2021/05/19          3032  25178"
      ]
     },
     "execution_count": 37,
     "metadata": {},
     "output_type": "execute_result"
    }
   ],
   "source": [
    "merged_df = days_picked_count.merge(day_count, how=\"inner\", left_on=\"day\", right_on=\"day\")\n",
    "merged_df.head()"
   ]
  },
  {
   "cell_type": "code",
   "execution_count": 38,
   "id": "eight-demographic",
   "metadata": {},
   "outputs": [],
   "source": [
    "merged_df['percent_picked'] = merged_df['picked_count'] / merged_df['count'] * 100"
   ]
  },
  {
   "cell_type": "code",
   "execution_count": 42,
   "id": "secret-bathroom",
   "metadata": {},
   "outputs": [
    {
     "data": {
      "image/png": "[encoded data removed]",
      "text/plain": [
       "<Figure size 432x288 with 1 Axes>"
      ]
     },
     "metadata": {
      "needs_background": "light"
     },
     "output_type": "display_data"
    }
   ],
   "source": [
    "plt.bar(merged_df['day'], merged_df['percent_picked']);\n",
    "plt.xticks(rotation=90);\n",
    "plt.title('Picked objects percent by days');\n",
    "plt.xlabel('Day');\n",
    "plt.ylabel('% of objects picked');"
   ]
  },
  {
   "cell_type": "markdown",
   "id": "fewer-february",
   "metadata": {},
   "source": [
    "# Time intervals"
   ]
  },
  {
   "cell_type": "code",
   "execution_count": 43,
   "id": "precious-association",
   "metadata": {},
   "outputs": [],
   "source": [
    "sorted_dates_df = df.select(\"py_date\").orderBy(\"py_date\")"
   ]
  },
  {
   "cell_type": "code",
   "execution_count": 44,
   "id": "specific-evening",
   "metadata": {},
   "outputs": [],
   "source": [
    "time_detected_diffs = sorted_dates_df\\\n",
    "    .withColumn(\"prev_py_date\", \n",
    "                F.lag(\"py_date\").over(Window.orderBy(\"py_date\")))\\\n",
    "    .where('prev_py_date is not null')\\\n",
    "    .withColumn(\"diff\", F.unix_timestamp(\"py_date\") - \n",
    "                    F.unix_timestamp(\"prev_py_date\"))\\\n",
    "    .groupby(\"diff\").agg(F.count(\"*\").alias(\"count\"))\\\n",
    "    .orderBy(\"diff\")\\\n",
    "    .toPandas()"
   ]
  },
  {
   "cell_type": "code",
   "execution_count": 50,
   "id": "quick-catalog",
   "metadata": {},
   "outputs": [],
   "source": [
    "time_detected_diffs_pick = sorted_dates_df\\\n",
    "    .where(\"picked = true\")\\\n",
    "    .withColumn(\"prev_py_date\", \n",
    "                F.lag(\"py_date\").over(Window.orderBy(\"py_date\")))\\\n",
    "    .where('prev_py_date is not null')\\\n",
    "    .withColumn(\"diff\", F.unix_timestamp(\"py_date\") - \n",
    "                    F.unix_timestamp(\"prev_py_date\"))\\\n",
    "    .groupby(\"diff\").agg(F.count(\"*\").alias(\"count\"))\\\n",
    "    .orderBy(\"diff\")\\\n",
    "    .toPandas()"
   ]
  },
  {
   "cell_type": "code",
   "execution_count": 51,
   "id": "attached-charm",
   "metadata": {},
   "outputs": [],
   "source": [
    "import numpy as np"
   ]
  },
  {
   "cell_type": "code",
   "execution_count": 62,
   "id": "legal-solid",
   "metadata": {},
   "outputs": [
    {
     "data": {
      "text/plain": [
       "(2816.0, 0, 133376)"
      ]
     },
     "execution_count": 62,
     "metadata": {},
     "output_type": "execute_result"
    }
   ],
   "source": [
    "time_detected_diffs['diff'].median(),\\\n",
    "    time_detected_diffs['diff'].min(),\\\n",
    "    time_detected_diffs['diff'].max()"
   ]
  },
  {
   "cell_type": "code",
   "execution_count": 63,
   "id": "chubby-wrapping",
   "metadata": {},
   "outputs": [
    {
     "data": {
      "text/plain": [
       "(3648.0, 0, 133376)"
      ]
     },
     "execution_count": 63,
     "metadata": {},
     "output_type": "execute_result"
    }
   ],
   "source": [
    "time_detected_diffs_pick['diff'].median(),\\\n",
    "    time_detected_diffs_pick['diff'].min(),\\\n",
    "    time_detected_diffs_pick['diff'].max()"
   ]
  },
  {
   "cell_type": "markdown",
   "id": "sweet-thailand",
   "metadata": {},
   "source": [
    "Why so big intervals? May be robot does not work in some hours? At which days and hours there are biggest gaps?"
   ]
  },
  {
   "cell_type": "markdown",
   "id": "forced-mileage",
   "metadata": {},
   "source": [
    "Top 10 gaps"
   ]
  },
  {
   "cell_type": "code",
   "execution_count": 67,
   "id": "widespread-heritage",
   "metadata": {},
   "outputs": [
    {
     "name": "stdout",
     "output_type": "stream",
     "text": [
      "+-------------------+-------------------+------+\n",
      "|       prev_py_date|            py_date|  diff|\n",
      "+-------------------+-------------------+------+\n",
      "|2021-05-28 17:27:28|2021-05-30 06:30:24|133376|\n",
      "|2021-05-31 12:37:20|2021-06-01 05:28:32| 60672|\n",
      "|2021-05-18 04:07:28|2021-05-18 11:07:44| 25216|\n",
      "|2021-05-19 02:14:24|2021-05-19 07:00:16| 17152|\n",
      "|2021-05-17 10:40:00|2021-05-17 14:32:32| 13952|\n",
      "|2021-06-02 10:20:48|2021-06-02 13:11:28| 10240|\n",
      "|2021-05-28 05:41:20|2021-05-28 08:32:00| 10240|\n",
      "|2021-06-01 08:51:12|2021-06-01 11:01:20|  7808|\n",
      "|2021-05-18 02:01:36|2021-05-18 03:46:08|  6272|\n",
      "|2021-05-26 04:52:16|2021-05-26 06:28:16|  5760|\n",
      "+-------------------+-------------------+------+\n",
      "only showing top 10 rows\n",
      "\n"
     ]
    }
   ],
   "source": [
    "sorted_dates_df\\\n",
    "    .withColumn(\"prev_py_date\", \n",
    "                F.lag(\"py_date\").over(Window.orderBy(\"py_date\")))\\\n",
    "    .where('prev_py_date is not null')\\\n",
    "    .withColumn(\"diff\", F.unix_timestamp(\"py_date\") - \n",
    "                    F.unix_timestamp(\"prev_py_date\"))\\\n",
    "    .orderBy(F.desc(\"diff\"))\\\n",
    "    .select(\"prev_py_date\", \"py_date\", \"diff\")\\\n",
    "    .show(10)"
   ]
  },
  {
   "cell_type": "markdown",
   "id": "brazilian-mercury",
   "metadata": {},
   "source": [
    "# Pie char for categories count"
   ]
  },
  {
   "cell_type": "code",
   "execution_count": 54,
   "id": "meaningful-consideration",
   "metadata": {},
   "outputs": [],
   "source": [
    "category_counts = df.groupBy(\"category\").count().toPandas()"
   ]
  },
  {
   "cell_type": "code",
   "execution_count": 55,
   "id": "hourly-advertising",
   "metadata": {},
   "outputs": [],
   "source": [
    "category_counts = category_counts.sort_values([\"count\"], ascending=False)"
   ]
  },
  {
   "cell_type": "code",
   "execution_count": 56,
   "id": "opening-preference",
   "metadata": {},
   "outputs": [],
   "source": [
    "category_counts_subset = category_counts[:14]"
   ]
  },
  {
   "cell_type": "code",
   "execution_count": 57,
   "id": "freelance-revelation",
   "metadata": {},
   "outputs": [
    {
     "data": {
      "text/plain": [
       "15716"
      ]
     },
     "execution_count": 57,
     "metadata": {},
     "output_type": "execute_result"
    }
   ],
   "source": [
    "category_counts_other = category_counts[14:][\"count\"].sum()\n",
    "category_counts_other"
   ]
  },
  {
   "cell_type": "code",
   "execution_count": 58,
   "id": "naughty-organic",
   "metadata": {},
   "outputs": [
    {
     "data": {
      "image/png": "[encoded data removed]",
      "text/plain": [
       "<Figure size 432x288 with 1 Axes>"
      ]
     },
     "metadata": {},
     "output_type": "display_data"
    }
   ],
   "source": [
    "plt.pie(list(category_counts_subset['count']) + [category_counts_other], autopct='%1.1f%%',\n",
    "        labels=list(category_counts_subset['category']) + ['Other'], radius=2);"
   ]
  },
  {
   "cell_type": "markdown",
   "id": "statutory-colors",
   "metadata": {},
   "source": [
    "# Check why robot doesn't pick objects"
   ]
  },
  {
   "cell_type": "code",
   "execution_count": 80,
   "id": "plastic-lying",
   "metadata": {},
   "outputs": [],
   "source": [
    "df_not_picked = df.where(\"picked = false\")\\\n",
    "    .select(col(\"_id.$oid\").alias(\"id\"), \"py_date\", \"x\", \"y\", \"z\")\n",
    "\n",
    "df_picked = df.where(\"picked = true\")\\\n",
    "    .select(col(\"_id.$oid\").alias(\"id\"), \"py_date\", \"x\", \"y\", \"z\")"
   ]
  },
  {
   "cell_type": "code",
   "execution_count": null,
   "id": "valid-stack",
   "metadata": {},
   "outputs": [],
   "source": [
    "nearest_pd_df = df_not_picked.alias(\"df_not_picked\")\\\n",
    "    .join(df_picked.alias(\"df_picked\"), \n",
    "          col(\"df_picked.py_date\") <= col(\"df_not_picked.py_date\"),\n",
    "          how = \"left_outer\")\\\n",
    "    .withColumn(\"date_diff\", \n",
    "                F.unix_timestamp(\"df_not_picked.py_date\") - F.unix_timestamp(\"df_picked.py_date\"))\\\n",
    "    .withColumn(\"coord_diff\", F.abs(col(\"df_picked.x\") - col(\"df_not_picked.x\")) +\n",
    "                F.abs(col(\"df_picked.y\") - col(\"df_not_picked.y\")) + \n",
    "                F.abs(col(\"df_picked.z\") - col(\"df_not_picked.z\")))\\\n",
    "    .where(\"df_picked.id is not null\")\\\n",
    "    .groupBy(\"df_not_picked.id\").agg(F.min(F.struct(\"date_diff\", \"coord_diff\")).alias(\"nearest\"))\\\n",
    "    .toPandas()"
   ]
  },
  {
   "cell_type": "code",
   "execution_count": null,
   "id": "disturbed-provider",
   "metadata": {},
   "outputs": [],
   "source": [
    "nearest_pd_df.head()"
   ]
  },
  {
   "cell_type": "markdown",
   "id": "discrete-guitar",
   "metadata": {},
   "source": [
    "# End"
   ]
  },
  {
   "cell_type": "code",
   "execution_count": 115,
   "id": "supposed-deadline",
   "metadata": {},
   "outputs": [],
   "source": [
    "spark.stop()"
   ]
  }
 ],
 "metadata": {
  "kernelspec": {
   "display_name": "Python 3",
   "language": "python",
   "name": "python3"
  },
  "language_info": {
   "codemirror_mode": {
    "name": "ipython",
    "version": 3
   },
   "file_extension": ".py",
   "mimetype": "text/x-python",
   "name": "python",
   "nbconvert_exporter": "python",
   "pygments_lexer": "ipython3",
   "version": "3.8.8"
  }
 },
 "nbformat": 4,
 "nbformat_minor": 5
}
