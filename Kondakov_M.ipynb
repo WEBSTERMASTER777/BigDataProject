{
  "nbformat": 4,
  "nbformat_minor": 5,
  "metadata": {
    "kernelspec": {
      "display_name": "Python 3",
      "language": "python",
      "name": "python3"
    },
    "language_info": {
      "codemirror_mode": {
        "name": "ipython",
        "version": 3
      },
      "file_extension": ".py",
      "mimetype": "text/x-python",
      "name": "python",
      "nbconvert_exporter": "python",
      "pygments_lexer": "ipython3",
      "version": "3.8.8"
    },
    "colab": {
      "name": "Kondakov M.ipynb",
      "provenance": [],
      "collapsed_sections": [],
      "toc_visible": true
    }
  },
  "cells": [
    {
      "cell_type": "markdown",
      "metadata": {
        "id": "numeric-nursery"
      },
      "source": [
        "# Maxim Kondakov"
      ],
      "id": "numeric-nursery"
    },
    {
      "cell_type": "code",
      "metadata": {
        "id": "ethical-essay"
      },
      "source": [
        "import os\n",
        "import socket\n",
        "from pyspark import SparkConf, SparkContext, SQLContext\n",
        "from pyspark.sql import SparkSession\n",
        "from pyspark.sql.functions import udf, length, when, col, broadcast\n",
        "from pyspark.sql.types import BooleanType, IntegerType, LongType, StringType, ArrayType, FloatType, StructType, StructField\n",
        "import pyspark.sql.functions as F\n",
        "from pyspark.sql.functions import pandas_udf\n",
        "from pyspark.sql.functions import PandasUDFType\n",
        "from pyspark import StorageLevel\n",
        "from jinja2 import Environment, FileSystemLoader\n"
      ],
      "id": "ethical-essay",
      "execution_count": null,
      "outputs": []
    },
    {
      "cell_type": "code",
      "metadata": {
        "id": "initial-fancy"
      },
      "source": [
        "import datetime\n",
        "import matplotlib.pyplot as plt\n",
        "import numpy as np\n",
        "from pyspark.sql.functions import date_format\n",
        "from pyspark.sql.functions import weekofyear\n",
        "from pyspark.sql.window import Window\n",
        "from pyspark.sql.functions import row_number\n",
        "import pandas as pd\n",
        "import seaborn as sns"
      ],
      "id": "initial-fancy",
      "execution_count": null,
      "outputs": []
    },
    {
      "cell_type": "code",
      "metadata": {
        "id": "identified-johnson"
      },
      "source": [
        "# setting constants\n",
        "APP_NAME = \"YOUR_APP_NAME\"\n",
        "NORMALIZED_APP_NAME = APP_NAME.replace('/', '_').replace(':', '_')\n",
        "\n",
        "APPS_TMP_DIR = os.path.join(os.getcwd(), \"tmp\")\n",
        "APPS_CONF_DIR = os.path.join(os.getcwd(), \"conf\")\n",
        "APPS_LOGS_DIR = os.path.join(os.getcwd(), \"logs\")\n",
        "LOG4J_PROP_FILE = os.path.join(APPS_CONF_DIR, \"pyspark-log4j-{}.properties\".format(NORMALIZED_APP_NAME))\n",
        "LOG_FILE = os.path.join(APPS_LOGS_DIR, 'pyspark-{}.log'.format(NORMALIZED_APP_NAME))\n",
        "EXTRA_JAVA_OPTIONS = \"-Dlog4j.configuration=file://{} -Dspark.hadoop.dfs.replication=1 -Dhttps.protocols=TLSv1.0,TLSv1.1,TLSv1.2,TLSv1.3\"\\\n",
        "    .format(LOG4J_PROP_FILE)\n",
        "\n",
        "LOCAL_IP = socket.gethostbyname(socket.gethostname())"
      ],
      "id": "identified-johnson",
      "execution_count": null,
      "outputs": []
    },
    {
      "cell_type": "code",
      "metadata": {
        "id": "innovative-congo"
      },
      "source": [
        "# preparing configuration files from templates\n",
        "for directory in [APPS_CONF_DIR, APPS_LOGS_DIR, APPS_TMP_DIR]:\n",
        "    if not os.path.exists(directory):\n",
        "        os.makedirs(directory)\n",
        "\n",
        "env = Environment(loader=FileSystemLoader('/opt'))\n",
        "template = env.get_template(\"pyspark_log4j.properties.template\")\n",
        "template\\\n",
        "    .stream(logfile=LOG_FILE)\\\n",
        "    .dump(LOG4J_PROP_FILE)"
      ],
      "id": "innovative-congo",
      "execution_count": null,
      "outputs": []
    },
    {
      "cell_type": "code",
      "metadata": {
        "id": "operating-strengthening"
      },
      "source": [
        "# run spark\n",
        "spark = SparkSession\\\n",
        "    .builder\\\n",
        "    .appName(APP_NAME)\\\n",
        "    .master(\"k8s://https://10.32.7.103:6443\")\\\n",
        "    .config(\"spark.driver.host\", LOCAL_IP)\\\n",
        "    .config(\"spark.ui.port\", \"4040\")\\\n",
        "    .config(\"spark.kubernetes.memoryOverheadFactor\", \"0.6\")\\\n",
        "    .config(\"spark.driver.memory\", \"4g\")\\\n",
        "    .config(\"spark.driver.bindAddress\", \"0.0.0.0\")\\\n",
        "    .config(\"spark.executor.instances\", \"5\")\\\n",
        "    .config(\"spark.executor.cores\", '4')\\\n",
        "    .config(\"spark.executor.memory\", \"5g\")\\\n",
        "    .config(\"spark.memory.fraction\", \"0.6\")\\\n",
        "    .config(\"spark.memory.storageFraction\", \"0.5\")\\\n",
        "    .config(\"spark.sql.autoBroadcastJoinThreshold\", \"-1\")\\\n",
        "    .config(\"spark.driver.extraJavaOptions\", EXTRA_JAVA_OPTIONS)\\\n",
        "    .config(\"spark.kubernetes.namespace\", \"mkondakov-310009\")\\\n",
        "    .config(\"spark.kubernetes.driver.label.appname\", APP_NAME)\\\n",
        "    .config(\"spark.kubernetes.executor.label.appname\", APP_NAME)\\\n",
        "    .config(\"spark.kubernetes.container.image.pullPolicy\", \"Always\")\\\n",
        "    .config(\"spark.kubernetes.container.image\", \"node03.st:5000/spark-executor:mkondakov-310009\")\\\n",
        "    .config(\"spark.kubernetes.executor.deleteOnTermination\", \"true\")\\\n",
        "    .config(\"spark.local.dir\", \"/tmp/spark\")\\\n",
        "    .getOrCreate()"
      ],
      "id": "operating-strengthening",
      "execution_count": null,
      "outputs": []
    },
    {
      "cell_type": "code",
      "metadata": {
        "id": "signal-black",
        "outputId": "7f207d11-9ee0-4676-8940-c6f3d48de1fe"
      },
      "source": [
        "! hdfs dfs -put detect_12.json /home/mkondakov-310009/detect_12.json"
      ],
      "id": "signal-black",
      "execution_count": null,
      "outputs": [
        {
          "output_type": "stream",
          "text": [
            "WARNING: An illegal reflective access operation has occurred\r\n",
            "WARNING: Illegal reflective access by org.apache.hadoop.security.authentication.util.KerberosUtil (file:/opt/hadoop-2.7.2/share/hadoop/common/lib/hadoop-auth-2.7.2.jar) to method sun.security.krb5.Config.getInstance()\r\n",
            "WARNING: Please consider reporting this to the maintainers of org.apache.hadoop.security.authentication.util.KerberosUtil\r\n",
            "WARNING: Use --illegal-access=warn to enable warnings of further illegal reflective access operations\r\n",
            "WARNING: All illegal access operations will be denied in a future release\r\n"
          ],
          "name": "stdout"
        }
      ]
    },
    {
      "cell_type": "code",
      "metadata": {
        "id": "basic-decade"
      },
      "source": [
        "JSON_SCHEMA = StructType([\n",
        "    StructField('_id', StructType([\n",
        "        StructField('$oid', StringType())\n",
        "    ])),\n",
        "    StructField('x', IntegerType()),\n",
        "    StructField('y', IntegerType()),\n",
        "    StructField('z', IntegerType()),\n",
        "    StructField('time_detected', FloatType()),\n",
        "    StructField('object_id', IntegerType()),\n",
        "    StructField('category', StringType()),\n",
        "    StructField('clf_category', StringType()),\n",
        "    StructField('conf', FloatType()),\n",
        "    StructField('picked', BooleanType()),\n",
        "    StructField('proceed', StructType([\n",
        "        StructField('proceed_1', StringType()),\n",
        "        StructField('proceed_2', StringType()),\n",
        "    ])),\n",
        "    StructField('repeated_detection', ArrayType(StructType([\n",
        "        StructField('time_detected', FloatType()),\n",
        "        StructField('x', IntegerType()),\n",
        "        StructField('y', IntegerType()),\n",
        "        StructField('z', IntegerType()),\n",
        "        StructField('category', StringType()),\n",
        "        StructField('clf_category', StringType()),\n",
        "        StructField('conf', FloatType())\n",
        "    ])))\n",
        "])\n",
        "df = spark.read.json('/home/mkondakov-310009/detect_12.json', multiLine=True, schema=JSON_SCHEMA)"
      ],
      "id": "basic-decade",
      "execution_count": null,
      "outputs": []
    },
    {
      "cell_type": "markdown",
      "metadata": {
        "id": "piano-settlement"
      },
      "source": [
        "## convert  unix time"
      ],
      "id": "piano-settlement"
    },
    {
      "cell_type": "code",
      "metadata": {
        "id": "prescription-multiple",
        "outputId": "cc8da461-d9d6-43ed-a71e-7cb4480e11f9"
      },
      "source": [
        "time_df = df.select(\"time_detected\",\"object_id\")\\\n",
        "    .withColumn(\"py_date\", F.from_unixtime('time_detected'))\\\n",
        "    .drop(\"time_detected\")\n",
        "\n",
        "time_df = time_df.select('py_date',\"object_id\", date_format('py_date', 'E').alias('day_week'),weekofyear(time_df.py_date).alias('num_week'))\n",
        "time_df.show(3)"
      ],
      "id": "prescription-multiple",
      "execution_count": null,
      "outputs": [
        {
          "output_type": "stream",
          "text": [
            "+-------------------+---------+--------+--------+\n",
            "|            py_date|object_id|day_week|num_week|\n",
            "+-------------------+---------+--------+--------+\n",
            "|2021-05-15 16:29:52|        0|     Sat|      19|\n",
            "|2021-05-15 16:29:52|        1|     Sat|      19|\n",
            "|2021-05-15 16:29:52|        2|     Sat|      19|\n",
            "+-------------------+---------+--------+--------+\n",
            "only showing top 3 rows\n",
            "\n"
          ],
          "name": "stdout"
        }
      ]
    },
    {
      "cell_type": "code",
      "metadata": {
        "id": "filled-elements",
        "outputId": "51e291ae-0a71-4a77-cb2b-4b5bcf090e53"
      },
      "source": [
        "row = time_df.select(F.min('py_date').name(\"min_date\"), F.max('py_date').name(\"max_date\")).first() # alternatively apply .collect()\n",
        "row"
      ],
      "id": "filled-elements",
      "execution_count": null,
      "outputs": [
        {
          "output_type": "execute_result",
          "data": {
            "text/plain": [
              "Row(min_date='2021-05-15 16:29:52', max_date='2021-06-08 11:05:36')"
            ]
          },
          "metadata": {
            "tags": []
          },
          "execution_count": 136
        }
      ]
    },
    {
      "cell_type": "markdown",
      "metadata": {
        "id": "forty-sunset"
      },
      "source": [
        "## all items"
      ],
      "id": "forty-sunset"
    },
    {
      "cell_type": "code",
      "metadata": {
        "id": "superb-andrews",
        "outputId": "7faf0990-d092-4812-cea8-ff2170d9b2b4"
      },
      "source": [
        "df_picked = df.select(\"category\", 'object_id',\"time_detected\")\\\n",
        ".where(\"picked == true\")\\\n",
        ".withColumn(\"py_date\", F.from_unixtime('time_detected'))\\\n",
        ".withColumn(\"day_week\",  date_format('py_date', 'E'))\\\n",
        ".withColumn(\"day_of_week\",  date_format('py_date', 'F'))\\\n",
        ".withColumn(\"day_of_year\",  date_format('py_date', 'D'))\\\n",
        ".drop(\"time_detected\")\n",
        "\n",
        "df_picked = df_picked.withColumn(\"num_week\", weekofyear(df_picked.py_date))\n",
        "df_picked.show(3)"
      ],
      "id": "superb-andrews",
      "execution_count": null,
      "outputs": [
        {
          "output_type": "stream",
          "text": [
            "+-------------+---------+-------------------+--------+-----------+-----------+--------+\n",
            "|     category|object_id|            py_date|day_week|day_of_week|day_of_year|num_week|\n",
            "+-------------+---------+-------------------+--------+-----------+-----------+--------+\n",
            "|TRANSP BOTTLE|      122|2021-05-15 16:32:00|     Sat|          1|        135|      19|\n",
            "|  BLUE BOTTLE|      136|2021-05-15 16:32:00|     Sat|          1|        135|      19|\n",
            "|TRANSP BOTTLE|      138|2021-05-15 16:32:00|     Sat|          1|        135|      19|\n",
            "+-------------+---------+-------------------+--------+-----------+-----------+--------+\n",
            "only showing top 3 rows\n",
            "\n"
          ],
          "name": "stdout"
        }
      ]
    },
    {
      "cell_type": "markdown",
      "metadata": {
        "id": "molecular-behavior"
      },
      "source": [
        "## Top 5 all items"
      ],
      "id": "molecular-behavior"
    },
    {
      "cell_type": "code",
      "metadata": {
        "id": "attached-necessity",
        "outputId": "a7fe7ec7-d00e-49ba-b195-0fb8e80c5d15"
      },
      "source": [
        "pl_df = df.groupby(\"category\")\\\n",
        "    .agg(F.count(\"category\").name(\"object_count\"))\\\n",
        "    .orderBy(\"object_count\", ascending=False)\\\n",
        "\n",
        "pl_df.show(5)"
      ],
      "id": "attached-necessity",
      "execution_count": null,
      "outputs": [
        {
          "output_type": "stream",
          "text": [
            "+--------------+------------+\n",
            "|      category|object_count|\n",
            "+--------------+------------+\n",
            "|          CANS|      166175|\n",
            "|   BLUE BOTTLE|      108776|\n",
            "| TRANSP BOTTLE|      101130|\n",
            "|MILK CARDBOARD|       60024|\n",
            "|  GREEN BOTTLE|       38201|\n",
            "+--------------+------------+\n",
            "only showing top 5 rows\n",
            "\n"
          ],
          "name": "stdout"
        }
      ]
    },
    {
      "cell_type": "code",
      "metadata": {
        "id": "raising-syntax"
      },
      "source": [
        "all_category_df = pl_df.toPandas()"
      ],
      "id": "raising-syntax",
      "execution_count": null,
      "outputs": []
    },
    {
      "cell_type": "code",
      "metadata": {
        "id": "christian-jacksonville"
      },
      "source": [
        "some_values2 = ['CANS','BLUE BOTTLE','TRANSP BOTTLE','MILK CARDBOARD','GREEN BOTTLE']\n",
        "qwe = all_category_df.loc[all_category_df['category'].isin(some_values2)]"
      ],
      "id": "christian-jacksonville",
      "execution_count": null,
      "outputs": []
    },
    {
      "cell_type": "code",
      "metadata": {
        "id": "skilled-factory",
        "outputId": "782d3655-a0ae-4c26-e0da-263eee0de827"
      },
      "source": [
        "fig, ax = plt.subplots(figsize=fig_dims)\n",
        "sns.barplot(x=\"category\", y=\"object_count\", data=qwe)\n"
      ],
      "id": "skilled-factory",
      "execution_count": null,
      "outputs": [
        {
          "output_type": "execute_result",
          "data": {
            "text/plain": [
              "<AxesSubplot:xlabel='category', ylabel='object_count'>"
            ]
          },
          "metadata": {
            "tags": []
          },
          "execution_count": 552
        },
        {
          "output_type": "display_data",
          "data": {
            "image/png": "[encoded data removed]",
            "text/plain": [
              "<Figure size 864x288 with 1 Axes>"
            ]
          },
          "metadata": {
            "tags": []
          }
        }
      ]
    },
    {
      "cell_type": "markdown",
      "metadata": {
        "id": "invalid-hawaii"
      },
      "source": [
        " ## Top 5 items picked"
      ],
      "id": "invalid-hawaii"
    },
    {
      "cell_type": "code",
      "metadata": {
        "id": "acknowledged-phrase",
        "outputId": "b6e18c82-cd72-4ff7-911b-76ff580290b6"
      },
      "source": [
        "count_by_category = df_picked.groupby(\"category\")\\\n",
        "    .agg(F.count(\"category\").name(\"object_count\"))\\\n",
        "    .orderBy(\"object_count\", ascending=False)\\\n",
        "\n",
        "count_by_category.show(5)"
      ],
      "id": "acknowledged-phrase",
      "execution_count": null,
      "outputs": [
        {
          "output_type": "stream",
          "text": [
            "+-------------+------------+\n",
            "|     category|object_count|\n",
            "+-------------+------------+\n",
            "|TRANSP BOTTLE|       28093|\n",
            "|  BLUE BOTTLE|       20899|\n",
            "| GREEN BOTTLE|        9635|\n",
            "|  DARK BOTTLE|        3750|\n",
            "|    5L BOTTLE|        2036|\n",
            "+-------------+------------+\n",
            "only showing top 5 rows\n",
            "\n"
          ],
          "name": "stdout"
        }
      ]
    },
    {
      "cell_type": "code",
      "metadata": {
        "id": "apart-davis",
        "outputId": "da5df5da-cd4a-498f-db52-e5b5bd9f7da4"
      },
      "source": [
        "count_by_category_df = count_by_category.toPandas()\n",
        "qwe = count_by_category_df.loc[count_by_category_df['category'].isin(some_values)]\n",
        "\n",
        "fig, ax = plt.subplots(figsize=fig_dims)\n",
        "sns.barplot(x=\"category\", y=\"object_count\", data=qwe)"
      ],
      "id": "apart-davis",
      "execution_count": null,
      "outputs": [
        {
          "output_type": "execute_result",
          "data": {
            "text/plain": [
              "<AxesSubplot:xlabel='category', ylabel='object_count'>"
            ]
          },
          "metadata": {
            "tags": []
          },
          "execution_count": 561
        },
        {
          "output_type": "display_data",
          "data": {
            "image/png": "[encoded data removed]",
            "text/plain": [
              "<Figure size 864x288 with 1 Axes>"
            ]
          },
          "metadata": {
            "tags": []
          }
        }
      ]
    },
    {
      "cell_type": "markdown",
      "metadata": {
        "id": "japanese-ridge"
      },
      "source": [
        "## stat analysis"
      ],
      "id": "japanese-ridge"
    },
    {
      "cell_type": "code",
      "metadata": {
        "id": "hundred-microwave"
      },
      "source": [
        "pandas_picked = df_picked.toPandas()\n",
        "picked_df = pandas_picked.groupby(['category', 'day_of_year']).size().reset_index(name='counts')\n",
        "picked_df.sort_values('day_of_year', inplace=True)"
      ],
      "id": "hundred-microwave",
      "execution_count": null,
      "outputs": []
    },
    {
      "cell_type": "code",
      "metadata": {
        "id": "racial-montana",
        "outputId": "24177e3b-1b3d-4d60-d8ac-b09aa8b09940"
      },
      "source": [
        "some_values = ['TRANSP BOTTLE','BLUE BOTTLE','GREEN BOTTLE','DARK BOTTLE','5L BOTTLE']\n",
        "qwe = picked_df.loc[picked_df['category'].isin(some_values)]\n",
        "qwe.head()"
      ],
      "id": "racial-montana",
      "execution_count": null,
      "outputs": [
        {
          "output_type": "execute_result",
          "data": {
            "text/html": [
              "<div>\n",
              "<style scoped>\n",
              "    .dataframe tbody tr th:only-of-type {\n",
              "        vertical-align: middle;\n",
              "    }\n",
              "\n",
              "    .dataframe tbody tr th {\n",
              "        vertical-align: top;\n",
              "    }\n",
              "\n",
              "    .dataframe thead th {\n",
              "        text-align: right;\n",
              "    }\n",
              "</style>\n",
              "<table border=\"1\" class=\"dataframe\">\n",
              "  <thead>\n",
              "    <tr style=\"text-align: right;\">\n",
              "      <th></th>\n",
              "      <th>category</th>\n",
              "      <th>day_of_year</th>\n",
              "      <th>counts</th>\n",
              "    </tr>\n",
              "  </thead>\n",
              "  <tbody>\n",
              "    <tr>\n",
              "      <th>0</th>\n",
              "      <td>5L BOTTLE</td>\n",
              "      <td>135</td>\n",
              "      <td>101</td>\n",
              "    </tr>\n",
              "    <tr>\n",
              "      <th>23</th>\n",
              "      <td>BLUE BOTTLE</td>\n",
              "      <td>135</td>\n",
              "      <td>1004</td>\n",
              "    </tr>\n",
              "    <tr>\n",
              "      <th>46</th>\n",
              "      <td>DARK BOTTLE</td>\n",
              "      <td>135</td>\n",
              "      <td>74</td>\n",
              "    </tr>\n",
              "    <tr>\n",
              "      <th>161</th>\n",
              "      <td>GREEN BOTTLE</td>\n",
              "      <td>135</td>\n",
              "      <td>448</td>\n",
              "    </tr>\n",
              "    <tr>\n",
              "      <th>207</th>\n",
              "      <td>TRANSP BOTTLE</td>\n",
              "      <td>135</td>\n",
              "      <td>1133</td>\n",
              "    </tr>\n",
              "  </tbody>\n",
              "</table>\n",
              "</div>"
            ],
            "text/plain": [
              "          category day_of_year  counts\n",
              "0        5L BOTTLE         135     101\n",
              "23     BLUE BOTTLE         135    1004\n",
              "46     DARK BOTTLE         135      74\n",
              "161   GREEN BOTTLE         135     448\n",
              "207  TRANSP BOTTLE         135    1133"
            ]
          },
          "metadata": {
            "tags": []
          },
          "execution_count": 557
        }
      ]
    },
    {
      "cell_type": "code",
      "metadata": {
        "id": "lovely-affairs",
        "outputId": "6b40bead-7cf1-467c-e17c-45c85959b316"
      },
      "source": [
        "qwe[qwe[\"category\"]== 'DARK BOTTLE'].describe()"
      ],
      "id": "lovely-affairs",
      "execution_count": null,
      "outputs": [
        {
          "output_type": "execute_result",
          "data": {
            "text/html": [
              "<div>\n",
              "<style scoped>\n",
              "    .dataframe tbody tr th:only-of-type {\n",
              "        vertical-align: middle;\n",
              "    }\n",
              "\n",
              "    .dataframe tbody tr th {\n",
              "        vertical-align: top;\n",
              "    }\n",
              "\n",
              "    .dataframe thead th {\n",
              "        text-align: right;\n",
              "    }\n",
              "</style>\n",
              "<table border=\"1\" class=\"dataframe\">\n",
              "  <thead>\n",
              "    <tr style=\"text-align: right;\">\n",
              "      <th></th>\n",
              "      <th>counts</th>\n",
              "    </tr>\n",
              "  </thead>\n",
              "  <tbody>\n",
              "    <tr>\n",
              "      <th>count</th>\n",
              "      <td>23.000000</td>\n",
              "    </tr>\n",
              "    <tr>\n",
              "      <th>mean</th>\n",
              "      <td>163.043478</td>\n",
              "    </tr>\n",
              "    <tr>\n",
              "      <th>std</th>\n",
              "      <td>50.970114</td>\n",
              "    </tr>\n",
              "    <tr>\n",
              "      <th>min</th>\n",
              "      <td>43.000000</td>\n",
              "    </tr>\n",
              "    <tr>\n",
              "      <th>25%</th>\n",
              "      <td>146.000000</td>\n",
              "    </tr>\n",
              "    <tr>\n",
              "      <th>50%</th>\n",
              "      <td>168.000000</td>\n",
              "    </tr>\n",
              "    <tr>\n",
              "      <th>75%</th>\n",
              "      <td>192.500000</td>\n",
              "    </tr>\n",
              "    <tr>\n",
              "      <th>max</th>\n",
              "      <td>235.000000</td>\n",
              "    </tr>\n",
              "  </tbody>\n",
              "</table>\n",
              "</div>"
            ],
            "text/plain": [
              "           counts\n",
              "count   23.000000\n",
              "mean   163.043478\n",
              "std     50.970114\n",
              "min     43.000000\n",
              "25%    146.000000\n",
              "50%    168.000000\n",
              "75%    192.500000\n",
              "max    235.000000"
            ]
          },
          "metadata": {
            "tags": []
          },
          "execution_count": 534
        }
      ]
    },
    {
      "cell_type": "code",
      "metadata": {
        "id": "statewide-divide",
        "outputId": "9ed2da5b-3f35-40db-fa85-607d6aa9c20d"
      },
      "source": [
        "g = sns.relplot(\n",
        "    data = qwe,\n",
        "    x=\"day_of_year\",y=\"counts\", hue=\"category\",kind=\"line\")\n",
        "g.fig.set_size_inches(15,7)"
      ],
      "id": "statewide-divide",
      "execution_count": null,
      "outputs": [
        {
          "output_type": "display_data",
          "data": {
            "image/png": "[encoded data removed]",
            "text/plain": [
              "<Figure size 1080x504 with 1 Axes>"
            ]
          },
          "metadata": {
            "tags": []
          }
        }
      ]
    },
    {
      "cell_type": "code",
      "metadata": {
        "id": "proper-monaco"
      },
      "source": [
        ""
      ],
      "id": "proper-monaco",
      "execution_count": null,
      "outputs": []
    }
  ]
}