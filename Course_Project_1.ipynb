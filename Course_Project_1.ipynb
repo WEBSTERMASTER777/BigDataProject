{
  "nbformat": 4,
  "nbformat_minor": 5,
  "metadata": {
    "kernelspec": {
      "display_name": "Python 3",
      "language": "python",
      "name": "python3"
    },
    "language_info": {
      "codemirror_mode": {
        "name": "ipython",
        "version": 3
      },
      "file_extension": ".py",
      "mimetype": "text/x-python",
      "name": "python",
      "nbconvert_exporter": "python",
      "pygments_lexer": "ipython3",
      "version": "3.8.8"
    },
    "colab": {
      "name": "Course_Project_1.ipynb",
      "provenance": []
    }
  },
  "cells": [
    {
      "cell_type": "code",
      "metadata": {
        "id": "brilliant-illinois"
      },
      "source": [
        "import os\n",
        "import socket\n",
        "from pyspark import SparkConf, SparkContext, SQLContext\n",
        "from pyspark.sql import SparkSession\n",
        "from pyspark.sql.window import Window\n",
        "from pyspark.sql.functions import udf, length, when, col, lit, broadcast\n",
        "from pyspark.sql.types import BooleanType, IntegerType, LongType, StringType, ArrayType, FloatType, StructType, StructField\n",
        "from pyspark.sql.functions import pandas_udf\n",
        "from pyspark.sql.functions import PandasUDFType\n",
        "from pyspark import StorageLevel\n",
        "from jinja2 import Environment, FileSystemLoader\n",
        "\n",
        "from pyspark.sql.functions import * # count, desc, size, explode, arrays_zip, regexp_extract\n",
        "import pyspark.sql.functions as F\n"
      ],
      "id": "brilliant-illinois",
      "execution_count": null,
      "outputs": []
    },
    {
      "cell_type": "code",
      "metadata": {
        "id": "pressing-button"
      },
      "source": [
        "# setting constants\n",
        "APP_NAME = \"Spark-Smetanin\"\n",
        "NORMALIZED_APP_NAME = APP_NAME.replace('/', '_').replace(':', '_')\n",
        "\n",
        "APPS_TMP_DIR = os.path.join(os.getcwd(), \"tmp\")\n",
        "APPS_CONF_DIR = os.path.join(os.getcwd(), \"conf\")\n",
        "APPS_LOGS_DIR = os.path.join(os.getcwd(), \"logs\")\n",
        "LOG4J_PROP_FILE = os.path.join(APPS_CONF_DIR, \"pyspark-log4j-{}.properties\".format(NORMALIZED_APP_NAME))\n",
        "LOG_FILE = os.path.join(APPS_LOGS_DIR, 'pyspark-{}.log'.format(NORMALIZED_APP_NAME))\n",
        "EXTRA_JAVA_OPTIONS = \"-Dlog4j.configuration=file://{} -Dspark.hadoop.dfs.replication=1 -Dhttps.protocols=TLSv1.0,TLSv1.1,TLSv1.2,TLSv1.3\"\\\n",
        "    .format(LOG4J_PROP_FILE)\n",
        "\n",
        "LOCAL_IP = socket.gethostbyname(socket.gethostname())"
      ],
      "id": "pressing-button",
      "execution_count": null,
      "outputs": []
    },
    {
      "cell_type": "code",
      "metadata": {
        "id": "eastern-immunology"
      },
      "source": [
        "for directory in [APPS_CONF_DIR, APPS_LOGS_DIR, APPS_TMP_DIR]:\n",
        "    if not os.path.exists(directory):\n",
        "        os.makedirs(directory)\n",
        "\n",
        "env = Environment(loader=FileSystemLoader('/opt'))\n",
        "template = env.get_template(\"pyspark_log4j.properties.template\")\n",
        "template\\\n",
        "    .stream(logfile=LOG_FILE)\\\n",
        "    .dump(LOG4J_PROP_FILE)"
      ],
      "id": "eastern-immunology",
      "execution_count": null,
      "outputs": []
    },
    {
      "cell_type": "code",
      "metadata": {
        "id": "sudden-promise"
      },
      "source": [
        "spark = SparkSession\\\n",
        "    .builder\\\n",
        "    .appName(APP_NAME)\\\n",
        "    .master(\"k8s://https://10.32.7.103:31412\")\\\n",
        "    .config(\"spark.driver.host\", LOCAL_IP)\\\n",
        "    .config(\"spark.ui.port\", \"4040\")\\\n",
        "    .config(\"spark.kubernetes.memoryOverheadFactor\", \"0.6\")\\\n",
        "    .config(\"spark.driver.memory\", \"4g\")\\\n",
        "    .config(\"spark.driver.bindAddress\", \"0.0.0.0\")\\\n",
        "    .config(\"spark.executor.instances\", \"5\")\\\n",
        "    .config(\"spark.executor.cores\", '4')\\\n",
        "    .config(\"spark.executor.memory\", \"5g\")\\\n",
        "    .config(\"spark.memory.fraction\", \"0.6\")\\\n",
        "    .config(\"spark.memory.storageFraction\", \"0.5\")\\\n",
        "    .config(\"spark.sql.autoBroadcastJoinThreshold\", \"-1\")\\\n",
        "    .config(\"spark.driver.extraJavaOptions\", EXTRA_JAVA_OPTIONS)\\\n",
        "    .config(\"spark.kubernetes.namespace\", \"asmetanin-307619\")\\\n",
        "    .config(\"spark.kubernetes.driver.label.appname\", APP_NAME)\\\n",
        "    .config(\"spark.kubernetes.executor.label.appname\", APP_NAME)\\\n",
        "    .config(\"spark.kubernetes.container.image.pullPolicy\", \"Always\")\\\n",
        "    .config(\"spark.kubernetes.container.image\", \"node03.st:5000/spark-executor:asmetanin-307619\")\\\n",
        "    .config(\"spark.kubernetes.executor.deleteOnTermination\", \"true\")\\\n",
        "    .config(\"spark.local.dir\", \"/tmp/spark\")\\\n",
        "    .getOrCreate()"
      ],
      "id": "sudden-promise",
      "execution_count": null,
      "outputs": []
    },
    {
      "cell_type": "code",
      "metadata": {
        "id": "decimal-cliff"
      },
      "source": [
        "!hdfs dfs -put work/detect_12.json /home/vbespalov-225110/detect_12.json"
      ],
      "id": "decimal-cliff",
      "execution_count": null,
      "outputs": []
    },
    {
      "cell_type": "code",
      "metadata": {
        "id": "novel-cream"
      },
      "source": [
        "JSON_SCHEMA = StructType([\n",
        "    StructField('_id', StructType([\n",
        "        StructField('$oid', StringType())\n",
        "    ])),\n",
        "    StructField('x', IntegerType()),\n",
        "    StructField('y', IntegerType()),\n",
        "    StructField('z', IntegerType()),\n",
        "    StructField('time_detected', StringType()),\n",
        "    StructField('object_id', IntegerType()),\n",
        "    StructField('category', StringType()),\n",
        "    StructField('clf_category', StringType()),\n",
        "    StructField('conf', FloatType()),\n",
        "    StructField('picked', BooleanType()),\n",
        "    StructField('proceed', StructType([\n",
        "        StructField('proceed_1', StringType()),\n",
        "        StructField('proceed_2', StringType()),\n",
        "    ])),\n",
        "    StructField('repeated_detection', ArrayType(StructType([\n",
        "        StructField('time_detected', StringType()),\n",
        "        StructField('x', IntegerType()),\n",
        "        StructField('y', IntegerType()),\n",
        "        StructField('z', IntegerType()),\n",
        "        StructField('category', StringType()),\n",
        "        StructField('clf_category', StringType()),\n",
        "        StructField('conf', FloatType())\n",
        "    ])))\n",
        "])\n",
        "df = spark.read.json('/home/vbespalov-225110/detect_12.json', \n",
        "                     multiLine=True, schema=JSON_SCHEMA)"
      ],
      "id": "novel-cream",
      "execution_count": null,
      "outputs": []
    },
    {
      "cell_type": "code",
      "metadata": {
        "id": "surface-sessions",
        "outputId": "266c7f81-394d-43d9-c2ec-45672ee2ae6a"
      },
      "source": [
        "df.show()"
      ],
      "id": "surface-sessions",
      "execution_count": null,
      "outputs": [
        {
          "output_type": "stream",
          "text": [
            "+--------------------+----+---+----+--------------------+---------+-------------+------------+----------+------+-------+--------------------+\n",
            "|                 _id|   x|  y|   z|       time_detected|object_id|     category|clf_category|      conf|picked|proceed|  repeated_detection|\n",
            "+--------------------+----+---+----+--------------------+---------+-------------+------------+----------+------+-------+--------------------+\n",
            "|{609ff700392c23cc...| 615|455|-150|1.6210961914386578E9|        0|  BLUE BOTTLE|        none| 0.6977539| false|   {, }|                  []|\n",
            "|{609ff700392c23cc...| 810|142|-150|1.6210961914386578E9|        1|       YOGURT|        none| 0.7988281| false|   {, }|                  []|\n",
            "|{609ff701392c23cc...| 810|495|-150|1.6210961928171592E9|        2|       YOGURT|        none| 0.7836914| false|   {, }|                  []|\n",
            "|{609ff701392c23cc...| 578|214|-150|1.6210961928171592E9|        3|       YOGURT|        none|0.83203125| false|   {, }|[{1.6210961933068...|\n",
            "|{609ff704392c23cc...| 855|121|-110| 1.621096195961311E9|        4|   GLASS DARK|        none| 0.8330078| false|   {, }|[{1.6210961962395...|\n",
            "|{609ff704392c23cc...| 531|154|-150| 1.621096196745112E9|        5|         CANS|        none| 0.6142578| false|   {, }|[{1.6210961970285...|\n",
            "|{609ff705392c23cc...| 371|530|-150| 1.621096197283643E9|        6|TRANSP BOTTLE|        none| 0.5415039| false|   {, }|                  []|\n",
            "|{609ff705392c23cc...| 368|170|-150|1.6210961975853715E9|        7| GREEN BOTTLE|        none| 0.5654297| false|   {, }|                  []|\n",
            "|{609ff705392c23cc...| 366|166|-110|1.6210961975853715E9|        8| GREEN BOTTLE|        none|0.76123047| false|   {, }|[{1.6210961978855...|\n",
            "|{609ff708392c23cc...| 454|182|-150| 1.621096200382678E9|        9|         CANS|        none| 0.8911133| false|   {, }|[{1.6210962005872...|\n",
            "|{609ff709392c23cc...| 750|189|-150| 1.621096200842722E9|       10|         CANS|        none| 0.5288086| false|   {, }|[{1.6210962011344...|\n",
            "|{609ff709392c23cc...| 399|221|-150|1.6210962011344147E9|       11|  BLUE BOTTLE|        none|0.92089844| false|   {, }|[{1.6210962014050...|\n",
            "|{609ff709392c23cc...| 965|140|-150|1.6210962014050472E9|       12| GREEN BOTTLE|        none|0.59521484| false|   {, }|[{1.6210962016519...|\n",
            "|{609ff709392c23cc...| 755|537|-150|1.6210962016519775E9|       13|         CANS|        none| 0.6767578| false|   {, }|                  []|\n",
            "|{609ff709392c23cc...| 603|419|-150|1.6210962016519775E9|       14|TRANSP BOTTLE|        none|0.72509766| false|   {, }|                  []|\n",
            "|{609ff70a392c23cc...| 394|553|-150| 1.621096201900486E9|       15|  BLUE BOTTLE|        none| 0.9213867| false|   {, }|                  []|\n",
            "|{609ff70a392c23cc...|1073|159|-150|1.6210962027579112E9|       16| GREEN BOTTLE|        none| 0.5888672| false|   {, }|                  []|\n",
            "|{609ff70a392c23cc...|1074|154|-150|1.6210962027579112E9|       17|TRANSP BOTTLE|        none| 0.6020508| false|   {, }|[{1.6210962029797...|\n",
            "|{609ff70b392c23cc...| 712|603|-150|1.6210962029797368E9|       18|         CANS|        none|0.58447266| false|   {, }|                  []|\n",
            "|{609ff70c392c23cc...| 483|222|-150|1.6210962047439022E9|       19|TRANSP BOTTLE|        none|0.74365234| false|   {, }|[{1.6210962050501...|\n",
            "+--------------------+----+---+----+--------------------+---------+-------------+------------+----------+------+-------+--------------------+\n",
            "only showing top 20 rows\n",
            "\n"
          ],
          "name": "stdout"
        }
      ]
    },
    {
      "cell_type": "code",
      "metadata": {
        "id": "oriental-miller",
        "outputId": "7742c342-6984-4c5e-ea9b-56f077ac6689"
      },
      "source": [
        "df.printSchema()"
      ],
      "id": "oriental-miller",
      "execution_count": null,
      "outputs": [
        {
          "output_type": "stream",
          "text": [
            "root\n",
            " |-- _id: struct (nullable = true)\n",
            " |    |-- $oid: string (nullable = true)\n",
            " |-- x: integer (nullable = true)\n",
            " |-- y: integer (nullable = true)\n",
            " |-- z: integer (nullable = true)\n",
            " |-- time_detected: string (nullable = true)\n",
            " |-- object_id: integer (nullable = true)\n",
            " |-- category: string (nullable = true)\n",
            " |-- clf_category: string (nullable = true)\n",
            " |-- conf: float (nullable = true)\n",
            " |-- picked: boolean (nullable = true)\n",
            " |-- proceed: struct (nullable = true)\n",
            " |    |-- proceed_1: string (nullable = true)\n",
            " |    |-- proceed_2: string (nullable = true)\n",
            " |-- repeated_detection: array (nullable = true)\n",
            " |    |-- element: struct (containsNull = true)\n",
            " |    |    |-- time_detected: string (nullable = true)\n",
            " |    |    |-- x: integer (nullable = true)\n",
            " |    |    |-- y: integer (nullable = true)\n",
            " |    |    |-- z: integer (nullable = true)\n",
            " |    |    |-- category: string (nullable = true)\n",
            " |    |    |-- clf_category: string (nullable = true)\n",
            " |    |    |-- conf: float (nullable = true)\n",
            "\n"
          ],
          "name": "stdout"
        }
      ]
    },
    {
      "cell_type": "code",
      "metadata": {
        "id": "introductory-passion",
        "outputId": "e1112fd5-4eed-46a9-ca8e-0400665e84c9"
      },
      "source": [
        "robo_category = ['TRANSP BOTTLE' , 'BLUE BOTTLE', 'DETERGENT COLOR', 'DETERGENT TRANSPARENT', \n",
        "                 'DETERGENT BOX', 'DETERGENT WHITE',\n",
        "                 'DARK BOTTLE','GREEN BOTTLE','5L BOTTLE','MILK BOTTLE']\n",
        "cc = df.select('category').distinct().count()\n",
        "\n",
        "print(cc)"
      ],
      "id": "introductory-passion",
      "execution_count": null,
      "outputs": [
        {
          "output_type": "stream",
          "text": [
            "20\n"
          ],
          "name": "stdout"
        }
      ]
    },
    {
      "cell_type": "code",
      "metadata": {
        "id": "incredible-sponsorship",
        "outputId": "1308cdbe-c0ca-445d-d3a5-039453df9d16"
      },
      "source": [
        "df.groupby(\"category\")\\\n",
        ".agg(F.count(\"object_id\").name('count_object'))\\\n",
        ".orderBy('count_object',ascending=False)\\\n",
        ".show(df.count(),False)"
      ],
      "id": "incredible-sponsorship",
      "execution_count": null,
      "outputs": [
        {
          "output_type": "stream",
          "text": [
            "+---------------------+------------+\n",
            "|category             |count_object|\n",
            "+---------------------+------------+\n",
            "|CANS                 |166175      |\n",
            "|BLUE BOTTLE          |108776      |\n",
            "|TRANSP BOTTLE        |101130      |\n",
            "|MILK CARDBOARD       |60024       |\n",
            "|GREEN BOTTLE         |38201       |\n",
            "|JUICE CARDBOARD      |34560       |\n",
            "|GLASS TRANSP         |28796       |\n",
            "|5L BOTTLE            |20671       |\n",
            "|YOGURT               |16825       |\n",
            "|DARK BOTTLE          |12906       |\n",
            "|GLASS DARK           |12892       |\n",
            "|GLASS GREEN          |10398       |\n",
            "|MILK BOTTLE          |6600        |\n",
            "|OIL BOTTLE           |6588        |\n",
            "|DETERGENT WHITE      |5441        |\n",
            "|DETERGENT TRANSPARENT|4895        |\n",
            "|DETERGENT COLOR      |3839        |\n",
            "|MULTICOLOR BOTTLE    |951         |\n",
            "|DETERGENT BOX        |441         |\n",
            "|CANISTER             |149         |\n",
            "+---------------------+------------+\n",
            "\n"
          ],
          "name": "stdout"
        }
      ]
    },
    {
      "cell_type": "code",
      "metadata": {
        "id": "suspended-cooking",
        "outputId": "208bd8d8-e157-4b3d-fb53-6d44b69cdf4d"
      },
      "source": [
        "max_value = df.select(col('x')).agg(F.max(\"x\"))\n",
        "max_value.show()"
      ],
      "id": "suspended-cooking",
      "execution_count": null,
      "outputs": [
        {
          "output_type": "stream",
          "text": [
            "+------+\n",
            "|max(x)|\n",
            "+------+\n",
            "|  1150|\n",
            "+------+\n",
            "\n"
          ],
          "name": "stdout"
        }
      ]
    },
    {
      "cell_type": "code",
      "metadata": {
        "id": "heavy-knight",
        "outputId": "cba805e6-4782-4967-eb22-e33d5561f483"
      },
      "source": [
        "min_value = df.select(col('x')).agg(F.min(\"x\"))\n",
        "min_value.show()"
      ],
      "id": "heavy-knight",
      "execution_count": null,
      "outputs": [
        {
          "output_type": "stream",
          "text": [
            "+------+\n",
            "|min(x)|\n",
            "+------+\n",
            "|   151|\n",
            "+------+\n",
            "\n"
          ],
          "name": "stdout"
        }
      ]
    },
    {
      "cell_type": "code",
      "metadata": {
        "id": "muslim-preference"
      },
      "source": [
        "picked = df.select('category').where('picked = true').count()\n",
        "\n",
        "object_robo_detect = df.filter(F.col(\"category\").isin(robo_category))\\\n",
        ".where(f'x > {(max_value.take(1)[0][0]+min_value.take(1)[0][0])/2}')\\\n",
        ".count()\n"
      ],
      "id": "muslim-preference",
      "execution_count": null,
      "outputs": []
    },
    {
      "cell_type": "code",
      "metadata": {
        "id": "supreme-norway",
        "outputId": "c95c1cd5-192b-4f11-dc73-8d26042d6e1c"
      },
      "source": [
        "picked = df.select('category').where('picked = true').count()\n",
        "\n",
        "object_robo_detect = df.filter(F.col(\"category\").isin(robo_category))\\\n",
        ".where(f'x > {(max_value.take(1)[0][0]+min_value.take(1)[0][0])/2}')\\\n",
        ".count()\n",
        "print(\"Percentage of picked objects %.2f\" % (picked/object_robo_detect*100))"
      ],
      "id": "supreme-norway",
      "execution_count": null,
      "outputs": [
        {
          "output_type": "stream",
          "text": [
            "Percentage of picked objects 80.67\n"
          ],
          "name": "stdout"
        }
      ]
    },
    {
      "cell_type": "code",
      "metadata": {
        "id": "excited-correction",
        "outputId": "d83178f3-5f97-4d31-9db7-a3cd5673a438"
      },
      "source": [
        "right_robo_object_count = df.select('x')\\\n",
        ".filter(F.col(\"category\").isin(robo_category))\\\n",
        ".where(f'x > {(max_value.take(1)[0][0]+min_value.take(1)[0][0])/2}')\\\n",
        ".count()\n",
        "print(right_robo_object_count)\n",
        "\n",
        "left_robo_object_count = df.select('x')\\\n",
        ".filter(F.col(\"category\").isin(robo_category))\\\n",
        ".where(f'x < {(max_value.take(1)[0][0]+min_value.take(1)[0][0])/2}')\\\n",
        ".count()\n",
        "print(left_robo_object_count)\n",
        "\n"
      ],
      "id": "excited-correction",
      "execution_count": null,
      "outputs": [
        {
          "output_type": "stream",
          "text": [
            "88648\n",
            "214252\n"
          ],
          "name": "stdout"
        }
      ]
    },
    {
      "cell_type": "markdown",
      "metadata": {
        "id": "charged-baltimore"
      },
      "source": [
        "Количетсво объектов по группам по каждой неделе (граф)\n",
        "Количество поднятых объектов по каждой неделе и количество объектов за которыми поехал робот(picked= true)(граф)\n",
        "\n",
        "Средний порог уверенности (conf) для каждого объекта(гист)\n",
        "Cреднее количество повторных детектов\n"
      ],
      "id": "charged-baltimore"
    },
    {
      "cell_type": "code",
      "metadata": {
        "id": "sharing-chain",
        "outputId": "601c0e9e-66a6-4756-d1d9-2c2ccbce035f"
      },
      "source": [
        "print(\"Difference %.2f\" % (left_robo_object_count/right_robo_object_count))"
      ],
      "id": "sharing-chain",
      "execution_count": null,
      "outputs": [
        {
          "output_type": "stream",
          "text": [
            "Difference 2.42\n"
          ],
          "name": "stdout"
        }
      ]
    }
  ]
}